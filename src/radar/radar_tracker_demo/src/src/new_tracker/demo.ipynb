{
 "cells": [
  {
   "cell_type": "code",
   "execution_count": null,
   "metadata": {},
   "outputs": [],
   "source": [
    "import numpy as np\n",
    "\n",
    "x, vx, y, vy = 5, 20, 0.8, 10\n",
    "\n",
    "B = np.array([[x / np.sqrt(x**x+y**2), y / np.sqrt(x**x+y**2)],\n",
    "              [-y / (x**x+y**2), x / (x**x+y**2), ], \n",
    "              [y*(vx*y-vy*x)/np.power((x**x+y**2), 1.5), x*(vy*x-x*y)/np.power((x**x+y**2), 1.5)]])\n",
    "print(B)\n",
    "\n",
    "A = np.array([[1.88, 0.32],[0.32, 2.25]])\n",
    "\n",
    "C = B.dot(A).dot(B.T)\n",
    "print(C)\n",
    "A2 = np.linalg.pinv(B).dot(C).dot(np.linalg.pinv(B.T))\n",
    "# print(np.linalg.pinv(B))\n",
    "print(A2)"
   ]
  },
  {
   "cell_type": "code",
   "execution_count": null,
   "metadata": {},
   "outputs": [],
   "source": [
    "import numpy as np\n",
    "mat = np.array([46.9798,  10.764,\n",
    "                10.764, 64.6428]).reshape([2,2])\n",
    "\n",
    "# 求解特征值和特征向量\n",
    "eigenvalues, eigenvectors = np.linalg.eig(mat)\n",
    "\n",
    "print(\"Eigenvalues:\")\n",
    "print(eigenvalues)\n"
   ]
  },
  {
   "cell_type": "code",
   "execution_count": null,
   "metadata": {},
   "outputs": [],
   "source": [
    "import numpy as np\n",
    "# data = np.array([5.38799,   17.996 ,\n",
    "#                  6.44735,  18.0519 ,\n",
    "#                  4.92464,  18.4258 , \n",
    "#                  5.5557,  17.0641,\n",
    "#                  3.28729,  19.3393,  \n",
    "#                  3.43392 ,  17.355 , \n",
    "#                  1.90726,  17.2194 , \n",
    "#                  6.90686,  16.2386 , \n",
    "#                  2.47415,  17.5916 , \n",
    "#                  1.93215,  18.1728 ,\n",
    "#                  1.64722,  16.2214 ,  \n",
    "#                  0.353683 , 14.8405  , \n",
    "#                  3.81875,  14.5266 ,\n",
    "#                  3.26569,   13.306 , \n",
    "#                  4.0277 , 17.2686 , \n",
    "#                  3.47709,  17.8298 \n",
    "#                  ]).reshape([-1, 2])\n",
    "\n",
    "data = np.array([5.38799,   17.996,  6.69509,\n",
    "                 6.44735,  18.0519,  6.84639,\n",
    "                 4.92464,  18.4258,  6.89442,\n",
    "                 5.5557,  17.0641,  6.21031,\n",
    "                 3.28729,  19.3393,   7.2435,\n",
    "                 3.43392,   17.355,  6.94794,\n",
    "                 1.90726 , 17.2194,  5.79138,\n",
    "                 6.90686,  16.2386,  5.12401,\n",
    "                 2.47415,  17.5916,  6.40381,\n",
    "                 1.93215,  18.1728,  5.99004,\n",
    "                 1.64722,  16.2214,    3.884,\n",
    "                 0.353683,  14.8405,   4.8423,\n",
    "                 3.81875,  14.5266,  5.02058,\n",
    "                 3.26569,   13.306,  3.55604,\n",
    "                 4.0277,  17.2686,  5.40472,\n",
    "                 3.47709,  17.8298,  5.66635,\n",
    "                 ]).reshape([-1, 3])\n",
    "\n",
    "# 计算协方差矩阵\n",
    "covariance_matrix = np.cov(data.T)\n",
    "print(covariance_matrix)  \n",
    "\n",
    "# 求解特征值和特征向量\n",
    "eigenvalues, eigenvectors = np.linalg.eig(covariance_matrix)\n",
    "\n",
    "print(\"Eigenvalues:\")\n",
    "print(eigenvalues)\n",
    "print(np.sqrt(eigenvalues) * 2)\n"
   ]
  },
  {
   "cell_type": "code",
   "execution_count": 25,
   "metadata": {},
   "outputs": [
    {
     "name": "stdout",
     "output_type": "stream",
     "text": [
      "[[0.25 0.   0.  ]\n",
      " [0.   0.25 0.  ]\n",
      " [0.   0.   0.  ]]\n",
      "Square root of A:\n",
      "[[0.5 0.  0. ]\n",
      " [0.  0.5 0. ]\n",
      " [0.  0.  0. ]]\n",
      "[[0.25 0.   0.  ]\n",
      " [0.   0.25 0.  ]\n",
      " [0.   0.   0.  ]]\n"
     ]
    }
   ],
   "source": [
    "import numpy as np\n",
    "\n",
    "A = np.array([[0.25, 0.0, 0],\n",
    "              [0.0, 0.25, 0],\n",
    "              [0, 0, 0]])\n",
    "\n",
    "print(A)\n",
    "\n",
    "eigenvalues, eigenvectors = np.linalg.eig(A)\n",
    "D_sqrt = np.diag(np.sqrt(eigenvalues))\n",
    "A_sqrt = eigenvectors @ D_sqrt @ np.linalg.inv(eigenvectors)\n",
    "\n",
    "print(\"Square root of A:\")\n",
    "print(A_sqrt)\n",
    "print(A_sqrt @ A_sqrt.T)\n"
   ]
  },
  {
   "cell_type": "code",
   "execution_count": 26,
   "metadata": {},
   "outputs": [
    {
     "data": {
      "text/latex": [
       "$\\displaystyle \\left[\\begin{matrix}x\\\\y\\\\vx\\\\vy\\\\ax\\\\ay\\end{matrix}\\right]$"
      ],
      "text/plain": [
       "⎡x ⎤\n",
       "⎢  ⎥\n",
       "⎢y ⎥\n",
       "⎢  ⎥\n",
       "⎢vx⎥\n",
       "⎢  ⎥\n",
       "⎢vy⎥\n",
       "⎢  ⎥\n",
       "⎢ax⎥\n",
       "⎢  ⎥\n",
       "⎣ay⎦"
      ]
     },
     "metadata": {},
     "output_type": "display_data"
    },
    {
     "data": {
      "text/latex": [
       "$\\displaystyle \\left[\\begin{matrix}1 & 0 & 0 & 0 & 0 & 0\\\\0 & 1 & 0 & 0 & 0 & 0\\\\\\frac{vx}{\\sqrt{x^{2} + y^{2}}} - \\frac{x \\left(vx x + vy y\\right)}{\\left(x^{2} + y^{2}\\right)^{\\frac{3}{2}}} & \\frac{vy}{\\sqrt{x^{2} + y^{2}}} - \\frac{y \\left(vx x + vy y\\right)}{\\left(x^{2} + y^{2}\\right)^{\\frac{3}{2}}} & \\frac{x}{\\sqrt{x^{2} + y^{2}}} & \\frac{y}{\\sqrt{x^{2} + y^{2}}} & 0 & 0\\end{matrix}\\right]$"
      ],
      "text/plain": [
       "⎡              1                               0                      0       \n",
       "⎢                                                                             \n",
       "⎢              0                               1                      0       \n",
       "⎢                                                                             \n",
       "⎢     vx        x⋅(vx⋅x + vy⋅y)       vy        y⋅(vx⋅x + vy⋅y)       x       \n",
       "⎢──────────── - ───────────────  ──────────── - ───────────────  ──────────── \n",
       "⎢   _________              3/2      _________              3/2      _________ \n",
       "⎢  ╱  2    2      ⎛ 2    2⎞        ╱  2    2      ⎛ 2    2⎞        ╱  2    2  \n",
       "⎣╲╱  x  + y       ⎝x  + y ⎠      ╲╱  x  + y       ⎝x  + y ⎠      ╲╱  x  + y   \n",
       "\n",
       "      0        0  0⎤\n",
       "                   ⎥\n",
       "      0        0  0⎥\n",
       "                   ⎥\n",
       "      y            ⎥\n",
       " ────────────  0  0⎥\n",
       "    _________      ⎥\n",
       "   ╱  2    2       ⎥\n",
       " ╲╱  x  + y        ⎦"
      ]
     },
     "metadata": {},
     "output_type": "display_data"
    }
   ],
   "source": [
    "import sympy\n",
    "from IPython.display import display\n",
    "sympy.init_printing(use_latex='mathjax')\n",
    "\n",
    "x, y, vx, vy, ax, ay = sympy.symbols('x, y, vx, vy, ax, ay')\n",
    "\n",
    "H = sympy.Matrix([x, y, (x*vx+y*vy) / sympy.sqrt(x**2 + y**2)])\n",
    "\n",
    "state = sympy.Matrix([x, y, vx, vy, ax, ay])\n",
    "J = H.jacobian(state)\n",
    "\n",
    "display(state)\n",
    "display(J)\n"
   ]
  }
 ],
 "metadata": {
  "kernelspec": {
   "display_name": "detr",
   "language": "python",
   "name": "python3"
  },
  "language_info": {
   "codemirror_mode": {
    "name": "ipython",
    "version": 3
   },
   "file_extension": ".py",
   "mimetype": "text/x-python",
   "name": "python",
   "nbconvert_exporter": "python",
   "pygments_lexer": "ipython3",
   "version": "3.9.7"
  },
  "orig_nbformat": 4
 },
 "nbformat": 4,
 "nbformat_minor": 2
}
