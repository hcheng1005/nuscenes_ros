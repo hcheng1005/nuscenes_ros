{
 "cells": [
  {
   "cell_type": "code",
   "execution_count": 12,
   "metadata": {},
   "outputs": [
    {
     "name": "stdout",
     "output_type": "stream",
     "text": [
      "[[ 0.08943356  0.01430937]\n",
      " [-0.00025595  0.00159967]\n",
      " [-0.00015565  0.00131619]]\n",
      "[[1.63166583e-02 5.30780365e-05 5.31603596e-05]\n",
      " [5.30780365e-05 5.61876200e-06 4.62474157e-06]\n",
      " [5.31603596e-05 4.62474157e-06 3.81224763e-06]]\n",
      "[[1.88 0.32]\n",
      " [0.32 2.25]]\n"
     ]
    }
   ],
   "source": [
    "import numpy as np\n",
    "\n",
    "x, vx, y, vy = 5, 20, 0.8, 10\n",
    "\n",
    "B = np.array([[x / np.sqrt(x**x+y**2), y / np.sqrt(x**x+y**2)],\n",
    "              [-y / (x**x+y**2), x / (x**x+y**2), ], \n",
    "              [y*(vx*y-vy*x)/np.power((x**x+y**2), 1.5), x*(vy*x-x*y)/np.power((x**x+y**2), 1.5)]])\n",
    "print(B)\n",
    "\n",
    "A = np.array([[1.88, 0.32],[0.32, 2.25]])\n",
    "\n",
    "C = B.dot(A).dot(B.T)\n",
    "print(C)\n",
    "A2 = np.linalg.pinv(B).dot(C).dot(np.linalg.pinv(B.T))\n",
    "# print(np.linalg.pinv(B))\n",
    "print(A2)"
   ]
  }
 ],
 "metadata": {
  "kernelspec": {
   "display_name": "detr",
   "language": "python",
   "name": "python3"
  },
  "language_info": {
   "codemirror_mode": {
    "name": "ipython",
    "version": 3
   },
   "file_extension": ".py",
   "mimetype": "text/x-python",
   "name": "python",
   "nbconvert_exporter": "python",
   "pygments_lexer": "ipython3",
   "version": "3.9.7"
  },
  "orig_nbformat": 4
 },
 "nbformat": 4,
 "nbformat_minor": 2
}
